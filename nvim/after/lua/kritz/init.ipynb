{
  "cells": [
    {
      "cell_type": "code",
      "metadata": {
        "jukit_cell_id": "NONE"
      },
      "source": [
        "require(\"kritz.remap\")\n",
        "require(\"kritz.set\")\n",
        "require(\"autoclose\").setup()\n",
        "\n",
        "vim.g._jukit_python_os_cmd = 'python'"
      ],
      "outputs": [],
      "execution_count": null
    }
  ],
  "metadata": {
    "anaconda-cloud": {},
    "kernelspec": {
      "display_name": "lua",
      "language": "lua",
      "name": "lua"
    }
  },
  "nbformat": 4,
  "nbformat_minor": 4
}